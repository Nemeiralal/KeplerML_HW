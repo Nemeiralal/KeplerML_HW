{
 "cells": [
  {
   "cell_type": "code",
   "execution_count": 1,
   "metadata": {},
   "outputs": [],
   "source": [
    "import pandas as pd\n",
    "import os"
   ]
  },
  {
   "cell_type": "code",
   "execution_count": 2,
   "metadata": {},
   "outputs": [],
   "source": [
    "%matplotlib inline\n",
    "import pandas as pd\n",
    "from pandas.plotting import scatter_matrix\n",
    "import numpy as np\n",
    "from numpy import loadtxt\n",
    "import os\n",
    "import scipy\n",
    "import matplotlib.pyplot as plt\n",
    "from matplotlib import rcParams\n",
    "import warnings\n",
    "import sklearn\n",
    "from sklearn import preprocessing\n",
    "from sklearn.preprocessing import scale\n",
    "from sklearn.preprocessing import StandardScaler\n",
    "import seaborn as sb\n",
    "\n",
    "from sklearn.metrics import classification_report\n",
    "from sklearn.metrics import accuracy_score\n",
    "\n",
    "from sklearn.pipeline import make_pipeline\n",
    "from sklearn.linear_model import LogisticRegression\n",
    "from sklearn.linear_model import LogisticRegressionCV\n",
    "from sklearn.discriminant_analysis import LinearDiscriminantAnalysis\n",
    "from sklearn import svm\n",
    "from sklearn.svm import LinearSVC\n",
    "from sklearn.neural_network import MLPClassifier\n",
    "from sklearn.tree import DecisionTreeClassifier\n",
    "from sklearn.ensemble import RandomForestClassifier, AdaBoostClassifier, VotingClassifier\n",
    "import xgboost as xgb\n",
    "\n",
    "from xgboost import XGBClassifier\n",
    "from sklearn.model_selection import train_test_split\n",
    "import joblib\n",
    "from joblib import dump, load\n",
    "import pickle\n",
    "from sklearn import model_selection\n",
    "\n",
    "from sklearn.model_selection import GridSearchCV\n",
    "from sklearn import ensemble\n",
    "from sklearn.ensemble import GradientBoostingClassifier"
   ]
  },
  {
   "cell_type": "code",
   "execution_count": 3,
   "metadata": {},
   "outputs": [],
   "source": [
    "#To view all columns in DF ,expanded without ellipses\n",
    "pd.set_option('display.max_columns', None)  \n",
    "pd.set_option('display.expand_frame_repr', False)\n",
    "pd.set_option('max_colwidth', -1)"
   ]
  },
  {
   "cell_type": "code",
   "execution_count": 4,
   "metadata": {},
   "outputs": [],
   "source": [
    "Kepler_df=pd.read_csv(\"cumulative.csv\")"
   ]
  },
  {
   "cell_type": "code",
   "execution_count": 5,
   "metadata": {
    "scrolled": true
   },
   "outputs": [
    {
     "data": {
      "text/html": [
       "<div>\n",
       "<style scoped>\n",
       "    .dataframe tbody tr th:only-of-type {\n",
       "        vertical-align: middle;\n",
       "    }\n",
       "\n",
       "    .dataframe tbody tr th {\n",
       "        vertical-align: top;\n",
       "    }\n",
       "\n",
       "    .dataframe thead th {\n",
       "        text-align: right;\n",
       "    }\n",
       "</style>\n",
       "<table border=\"1\" class=\"dataframe\">\n",
       "  <thead>\n",
       "    <tr style=\"text-align: right;\">\n",
       "      <th></th>\n",
       "      <th>rowid</th>\n",
       "      <th>kepid</th>\n",
       "      <th>kepoi_name</th>\n",
       "      <th>kepler_name</th>\n",
       "      <th>koi_disposition</th>\n",
       "      <th>koi_pdisposition</th>\n",
       "      <th>koi_score</th>\n",
       "      <th>koi_fpflag_nt</th>\n",
       "      <th>koi_fpflag_ss</th>\n",
       "      <th>koi_fpflag_co</th>\n",
       "      <th>koi_fpflag_ec</th>\n",
       "      <th>koi_period</th>\n",
       "      <th>koi_period_err1</th>\n",
       "      <th>koi_period_err2</th>\n",
       "      <th>koi_time0bk</th>\n",
       "      <th>koi_time0bk_err1</th>\n",
       "      <th>koi_time0bk_err2</th>\n",
       "      <th>koi_impact</th>\n",
       "      <th>koi_impact_err1</th>\n",
       "      <th>koi_impact_err2</th>\n",
       "      <th>koi_duration</th>\n",
       "      <th>koi_duration_err1</th>\n",
       "      <th>koi_duration_err2</th>\n",
       "      <th>koi_depth</th>\n",
       "      <th>koi_depth_err1</th>\n",
       "      <th>koi_depth_err2</th>\n",
       "      <th>koi_prad</th>\n",
       "      <th>koi_prad_err1</th>\n",
       "      <th>koi_prad_err2</th>\n",
       "      <th>koi_teq</th>\n",
       "      <th>koi_teq_err1</th>\n",
       "      <th>koi_teq_err2</th>\n",
       "      <th>koi_insol</th>\n",
       "      <th>koi_insol_err1</th>\n",
       "      <th>koi_insol_err2</th>\n",
       "      <th>koi_model_snr</th>\n",
       "      <th>koi_tce_plnt_num</th>\n",
       "      <th>koi_tce_delivname</th>\n",
       "      <th>koi_steff</th>\n",
       "      <th>koi_steff_err1</th>\n",
       "      <th>koi_steff_err2</th>\n",
       "      <th>koi_slogg</th>\n",
       "      <th>koi_slogg_err1</th>\n",
       "      <th>koi_slogg_err2</th>\n",
       "      <th>koi_srad</th>\n",
       "      <th>koi_srad_err1</th>\n",
       "      <th>koi_srad_err2</th>\n",
       "      <th>ra</th>\n",
       "      <th>dec</th>\n",
       "      <th>koi_kepmag</th>\n",
       "    </tr>\n",
       "  </thead>\n",
       "  <tbody>\n",
       "    <tr>\n",
       "      <th>0</th>\n",
       "      <td>1</td>\n",
       "      <td>10797460</td>\n",
       "      <td>K00752.01</td>\n",
       "      <td>Kepler-227 b</td>\n",
       "      <td>CONFIRMED</td>\n",
       "      <td>CANDIDATE</td>\n",
       "      <td>1.000</td>\n",
       "      <td>0</td>\n",
       "      <td>0</td>\n",
       "      <td>0</td>\n",
       "      <td>0</td>\n",
       "      <td>9.488036</td>\n",
       "      <td>2.775000e-05</td>\n",
       "      <td>-2.775000e-05</td>\n",
       "      <td>170.538750</td>\n",
       "      <td>0.002160</td>\n",
       "      <td>-0.002160</td>\n",
       "      <td>0.146</td>\n",
       "      <td>0.318</td>\n",
       "      <td>-0.146</td>\n",
       "      <td>2.95750</td>\n",
       "      <td>0.08190</td>\n",
       "      <td>-0.08190</td>\n",
       "      <td>615.8</td>\n",
       "      <td>19.5</td>\n",
       "      <td>-19.5</td>\n",
       "      <td>2.26</td>\n",
       "      <td>0.26</td>\n",
       "      <td>-0.15</td>\n",
       "      <td>793.0</td>\n",
       "      <td>NaN</td>\n",
       "      <td>NaN</td>\n",
       "      <td>93.59</td>\n",
       "      <td>29.45</td>\n",
       "      <td>-16.65</td>\n",
       "      <td>35.8</td>\n",
       "      <td>1.0</td>\n",
       "      <td>q1_q17_dr25_tce</td>\n",
       "      <td>5455.0</td>\n",
       "      <td>81.0</td>\n",
       "      <td>-81.0</td>\n",
       "      <td>4.467</td>\n",
       "      <td>0.064</td>\n",
       "      <td>-0.096</td>\n",
       "      <td>0.927</td>\n",
       "      <td>0.105</td>\n",
       "      <td>-0.061</td>\n",
       "      <td>291.93423</td>\n",
       "      <td>48.141651</td>\n",
       "      <td>15.347</td>\n",
       "    </tr>\n",
       "    <tr>\n",
       "      <th>1</th>\n",
       "      <td>2</td>\n",
       "      <td>10797460</td>\n",
       "      <td>K00752.02</td>\n",
       "      <td>Kepler-227 c</td>\n",
       "      <td>CONFIRMED</td>\n",
       "      <td>CANDIDATE</td>\n",
       "      <td>0.969</td>\n",
       "      <td>0</td>\n",
       "      <td>0</td>\n",
       "      <td>0</td>\n",
       "      <td>0</td>\n",
       "      <td>54.418383</td>\n",
       "      <td>2.479000e-04</td>\n",
       "      <td>-2.479000e-04</td>\n",
       "      <td>162.513840</td>\n",
       "      <td>0.003520</td>\n",
       "      <td>-0.003520</td>\n",
       "      <td>0.586</td>\n",
       "      <td>0.059</td>\n",
       "      <td>-0.443</td>\n",
       "      <td>4.50700</td>\n",
       "      <td>0.11600</td>\n",
       "      <td>-0.11600</td>\n",
       "      <td>874.8</td>\n",
       "      <td>35.5</td>\n",
       "      <td>-35.5</td>\n",
       "      <td>2.83</td>\n",
       "      <td>0.32</td>\n",
       "      <td>-0.19</td>\n",
       "      <td>443.0</td>\n",
       "      <td>NaN</td>\n",
       "      <td>NaN</td>\n",
       "      <td>9.11</td>\n",
       "      <td>2.87</td>\n",
       "      <td>-1.62</td>\n",
       "      <td>25.8</td>\n",
       "      <td>2.0</td>\n",
       "      <td>q1_q17_dr25_tce</td>\n",
       "      <td>5455.0</td>\n",
       "      <td>81.0</td>\n",
       "      <td>-81.0</td>\n",
       "      <td>4.467</td>\n",
       "      <td>0.064</td>\n",
       "      <td>-0.096</td>\n",
       "      <td>0.927</td>\n",
       "      <td>0.105</td>\n",
       "      <td>-0.061</td>\n",
       "      <td>291.93423</td>\n",
       "      <td>48.141651</td>\n",
       "      <td>15.347</td>\n",
       "    </tr>\n",
       "    <tr>\n",
       "      <th>2</th>\n",
       "      <td>3</td>\n",
       "      <td>10811496</td>\n",
       "      <td>K00753.01</td>\n",
       "      <td>NaN</td>\n",
       "      <td>FALSE POSITIVE</td>\n",
       "      <td>FALSE POSITIVE</td>\n",
       "      <td>0.000</td>\n",
       "      <td>0</td>\n",
       "      <td>1</td>\n",
       "      <td>0</td>\n",
       "      <td>0</td>\n",
       "      <td>19.899140</td>\n",
       "      <td>1.494000e-05</td>\n",
       "      <td>-1.494000e-05</td>\n",
       "      <td>175.850252</td>\n",
       "      <td>0.000581</td>\n",
       "      <td>-0.000581</td>\n",
       "      <td>0.969</td>\n",
       "      <td>5.126</td>\n",
       "      <td>-0.077</td>\n",
       "      <td>1.78220</td>\n",
       "      <td>0.03410</td>\n",
       "      <td>-0.03410</td>\n",
       "      <td>10829.0</td>\n",
       "      <td>171.0</td>\n",
       "      <td>-171.0</td>\n",
       "      <td>14.60</td>\n",
       "      <td>3.92</td>\n",
       "      <td>-1.31</td>\n",
       "      <td>638.0</td>\n",
       "      <td>NaN</td>\n",
       "      <td>NaN</td>\n",
       "      <td>39.30</td>\n",
       "      <td>31.04</td>\n",
       "      <td>-10.49</td>\n",
       "      <td>76.3</td>\n",
       "      <td>1.0</td>\n",
       "      <td>q1_q17_dr25_tce</td>\n",
       "      <td>5853.0</td>\n",
       "      <td>158.0</td>\n",
       "      <td>-176.0</td>\n",
       "      <td>4.544</td>\n",
       "      <td>0.044</td>\n",
       "      <td>-0.176</td>\n",
       "      <td>0.868</td>\n",
       "      <td>0.233</td>\n",
       "      <td>-0.078</td>\n",
       "      <td>297.00482</td>\n",
       "      <td>48.134129</td>\n",
       "      <td>15.436</td>\n",
       "    </tr>\n",
       "    <tr>\n",
       "      <th>3</th>\n",
       "      <td>4</td>\n",
       "      <td>10848459</td>\n",
       "      <td>K00754.01</td>\n",
       "      <td>NaN</td>\n",
       "      <td>FALSE POSITIVE</td>\n",
       "      <td>FALSE POSITIVE</td>\n",
       "      <td>0.000</td>\n",
       "      <td>0</td>\n",
       "      <td>1</td>\n",
       "      <td>0</td>\n",
       "      <td>0</td>\n",
       "      <td>1.736952</td>\n",
       "      <td>2.630000e-07</td>\n",
       "      <td>-2.630000e-07</td>\n",
       "      <td>170.307565</td>\n",
       "      <td>0.000115</td>\n",
       "      <td>-0.000115</td>\n",
       "      <td>1.276</td>\n",
       "      <td>0.115</td>\n",
       "      <td>-0.092</td>\n",
       "      <td>2.40641</td>\n",
       "      <td>0.00537</td>\n",
       "      <td>-0.00537</td>\n",
       "      <td>8079.2</td>\n",
       "      <td>12.8</td>\n",
       "      <td>-12.8</td>\n",
       "      <td>33.46</td>\n",
       "      <td>8.50</td>\n",
       "      <td>-2.83</td>\n",
       "      <td>1395.0</td>\n",
       "      <td>NaN</td>\n",
       "      <td>NaN</td>\n",
       "      <td>891.96</td>\n",
       "      <td>668.95</td>\n",
       "      <td>-230.35</td>\n",
       "      <td>505.6</td>\n",
       "      <td>1.0</td>\n",
       "      <td>q1_q17_dr25_tce</td>\n",
       "      <td>5805.0</td>\n",
       "      <td>157.0</td>\n",
       "      <td>-174.0</td>\n",
       "      <td>4.564</td>\n",
       "      <td>0.053</td>\n",
       "      <td>-0.168</td>\n",
       "      <td>0.791</td>\n",
       "      <td>0.201</td>\n",
       "      <td>-0.067</td>\n",
       "      <td>285.53461</td>\n",
       "      <td>48.285210</td>\n",
       "      <td>15.597</td>\n",
       "    </tr>\n",
       "    <tr>\n",
       "      <th>4</th>\n",
       "      <td>5</td>\n",
       "      <td>10854555</td>\n",
       "      <td>K00755.01</td>\n",
       "      <td>Kepler-664 b</td>\n",
       "      <td>CONFIRMED</td>\n",
       "      <td>CANDIDATE</td>\n",
       "      <td>1.000</td>\n",
       "      <td>0</td>\n",
       "      <td>0</td>\n",
       "      <td>0</td>\n",
       "      <td>0</td>\n",
       "      <td>2.525592</td>\n",
       "      <td>3.761000e-06</td>\n",
       "      <td>-3.761000e-06</td>\n",
       "      <td>171.595550</td>\n",
       "      <td>0.001130</td>\n",
       "      <td>-0.001130</td>\n",
       "      <td>0.701</td>\n",
       "      <td>0.235</td>\n",
       "      <td>-0.478</td>\n",
       "      <td>1.65450</td>\n",
       "      <td>0.04200</td>\n",
       "      <td>-0.04200</td>\n",
       "      <td>603.3</td>\n",
       "      <td>16.9</td>\n",
       "      <td>-16.9</td>\n",
       "      <td>2.75</td>\n",
       "      <td>0.88</td>\n",
       "      <td>-0.35</td>\n",
       "      <td>1406.0</td>\n",
       "      <td>NaN</td>\n",
       "      <td>NaN</td>\n",
       "      <td>926.16</td>\n",
       "      <td>874.33</td>\n",
       "      <td>-314.24</td>\n",
       "      <td>40.9</td>\n",
       "      <td>1.0</td>\n",
       "      <td>q1_q17_dr25_tce</td>\n",
       "      <td>6031.0</td>\n",
       "      <td>169.0</td>\n",
       "      <td>-211.0</td>\n",
       "      <td>4.438</td>\n",
       "      <td>0.070</td>\n",
       "      <td>-0.210</td>\n",
       "      <td>1.046</td>\n",
       "      <td>0.334</td>\n",
       "      <td>-0.133</td>\n",
       "      <td>288.75488</td>\n",
       "      <td>48.226200</td>\n",
       "      <td>15.509</td>\n",
       "    </tr>\n",
       "  </tbody>\n",
       "</table>\n",
       "</div>"
      ],
      "text/plain": [
       "   rowid     kepid kepoi_name   kepler_name koi_disposition koi_pdisposition  koi_score  koi_fpflag_nt  koi_fpflag_ss  koi_fpflag_co  koi_fpflag_ec  koi_period  koi_period_err1  koi_period_err2  koi_time0bk  koi_time0bk_err1  koi_time0bk_err2  koi_impact  koi_impact_err1  koi_impact_err2  koi_duration  koi_duration_err1  koi_duration_err2  koi_depth  koi_depth_err1  koi_depth_err2  koi_prad  koi_prad_err1  koi_prad_err2  koi_teq  koi_teq_err1  koi_teq_err2  koi_insol  koi_insol_err1  koi_insol_err2  koi_model_snr  koi_tce_plnt_num koi_tce_delivname  koi_steff  koi_steff_err1  koi_steff_err2  koi_slogg  koi_slogg_err1  koi_slogg_err2  koi_srad  koi_srad_err1  koi_srad_err2         ra        dec  koi_kepmag\n",
       "0  1      10797460  K00752.01  Kepler-227 b  CONFIRMED       CANDIDATE        1.000      0              0              0              0              9.488036    2.775000e-05    -2.775000e-05     170.538750   0.002160         -0.002160          0.146       0.318           -0.146            2.95750       0.08190           -0.08190            615.8      19.5           -19.5            2.26      0.26          -0.15           793.0   NaN           NaN            93.59      29.45          -16.65           35.8           1.0               q1_q17_dr25_tce   5455.0     81.0           -81.0            4.467      0.064          -0.096           0.927     0.105         -0.061          291.93423  48.141651  15.347    \n",
       "1  2      10797460  K00752.02  Kepler-227 c  CONFIRMED       CANDIDATE        0.969      0              0              0              0              54.418383   2.479000e-04    -2.479000e-04     162.513840   0.003520         -0.003520          0.586       0.059           -0.443            4.50700       0.11600           -0.11600            874.8      35.5           -35.5            2.83      0.32          -0.19           443.0   NaN           NaN            9.11       2.87           -1.62            25.8           2.0               q1_q17_dr25_tce   5455.0     81.0           -81.0            4.467      0.064          -0.096           0.927     0.105         -0.061          291.93423  48.141651  15.347    \n",
       "2  3      10811496  K00753.01  NaN           FALSE POSITIVE  FALSE POSITIVE   0.000      0              1              0              0              19.899140   1.494000e-05    -1.494000e-05     175.850252   0.000581         -0.000581          0.969       5.126           -0.077            1.78220       0.03410           -0.03410            10829.0    171.0          -171.0           14.60     3.92          -1.31           638.0   NaN           NaN            39.30      31.04          -10.49           76.3           1.0               q1_q17_dr25_tce   5853.0     158.0          -176.0           4.544      0.044          -0.176           0.868     0.233         -0.078          297.00482  48.134129  15.436    \n",
       "3  4      10848459  K00754.01  NaN           FALSE POSITIVE  FALSE POSITIVE   0.000      0              1              0              0              1.736952    2.630000e-07    -2.630000e-07     170.307565   0.000115         -0.000115          1.276       0.115           -0.092            2.40641       0.00537           -0.00537            8079.2     12.8           -12.8            33.46     8.50          -2.83           1395.0  NaN           NaN            891.96     668.95         -230.35          505.6          1.0               q1_q17_dr25_tce   5805.0     157.0          -174.0           4.564      0.053          -0.168           0.791     0.201         -0.067          285.53461  48.285210  15.597    \n",
       "4  5      10854555  K00755.01  Kepler-664 b  CONFIRMED       CANDIDATE        1.000      0              0              0              0              2.525592    3.761000e-06    -3.761000e-06     171.595550   0.001130         -0.001130          0.701       0.235           -0.478            1.65450       0.04200           -0.04200            603.3      16.9           -16.9            2.75      0.88          -0.35           1406.0  NaN           NaN            926.16     874.33         -314.24          40.9           1.0               q1_q17_dr25_tce   6031.0     169.0          -211.0           4.438      0.070          -0.210           1.046     0.334         -0.133          288.75488  48.226200  15.509    "
      ]
     },
     "execution_count": 5,
     "metadata": {},
     "output_type": "execute_result"
    }
   ],
   "source": [
    "Kepler_df.head()"
   ]
  },
  {
   "cell_type": "code",
   "execution_count": 6,
   "metadata": {},
   "outputs": [
    {
     "data": {
      "text/plain": [
       "Index(['rowid', 'kepid', 'kepoi_name', 'kepler_name', 'koi_disposition',\n",
       "       'koi_pdisposition', 'koi_score', 'koi_fpflag_nt', 'koi_fpflag_ss',\n",
       "       'koi_fpflag_co', 'koi_fpflag_ec', 'koi_period', 'koi_period_err1',\n",
       "       'koi_period_err2', 'koi_time0bk', 'koi_time0bk_err1',\n",
       "       'koi_time0bk_err2', 'koi_impact', 'koi_impact_err1', 'koi_impact_err2',\n",
       "       'koi_duration', 'koi_duration_err1', 'koi_duration_err2', 'koi_depth',\n",
       "       'koi_depth_err1', 'koi_depth_err2', 'koi_prad', 'koi_prad_err1',\n",
       "       'koi_prad_err2', 'koi_teq', 'koi_teq_err1', 'koi_teq_err2', 'koi_insol',\n",
       "       'koi_insol_err1', 'koi_insol_err2', 'koi_model_snr', 'koi_tce_plnt_num',\n",
       "       'koi_tce_delivname', 'koi_steff', 'koi_steff_err1', 'koi_steff_err2',\n",
       "       'koi_slogg', 'koi_slogg_err1', 'koi_slogg_err2', 'koi_srad',\n",
       "       'koi_srad_err1', 'koi_srad_err2', 'ra', 'dec', 'koi_kepmag'],\n",
       "      dtype='object')"
      ]
     },
     "execution_count": 6,
     "metadata": {},
     "output_type": "execute_result"
    }
   ],
   "source": [
    "Kepler_df.columns"
   ]
  },
  {
   "cell_type": "code",
   "execution_count": 7,
   "metadata": {},
   "outputs": [
    {
     "data": {
      "text/plain": [
       "(9564, 50)"
      ]
     },
     "execution_count": 7,
     "metadata": {},
     "output_type": "execute_result"
    }
   ],
   "source": [
    "Kepler_df.shape"
   ]
  },
  {
   "cell_type": "code",
   "execution_count": 8,
   "metadata": {},
   "outputs": [
    {
     "data": {
      "text/plain": [
       "rowid                int64  \n",
       "kepid                int64  \n",
       "kepoi_name           object \n",
       "kepler_name          object \n",
       "koi_disposition      object \n",
       "koi_pdisposition     object \n",
       "koi_score            float64\n",
       "koi_fpflag_nt        int64  \n",
       "koi_fpflag_ss        int64  \n",
       "koi_fpflag_co        int64  \n",
       "koi_fpflag_ec        int64  \n",
       "koi_period           float64\n",
       "koi_period_err1      float64\n",
       "koi_period_err2      float64\n",
       "koi_time0bk          float64\n",
       "koi_time0bk_err1     float64\n",
       "koi_time0bk_err2     float64\n",
       "koi_impact           float64\n",
       "koi_impact_err1      float64\n",
       "koi_impact_err2      float64\n",
       "koi_duration         float64\n",
       "koi_duration_err1    float64\n",
       "koi_duration_err2    float64\n",
       "koi_depth            float64\n",
       "koi_depth_err1       float64\n",
       "koi_depth_err2       float64\n",
       "koi_prad             float64\n",
       "koi_prad_err1        float64\n",
       "koi_prad_err2        float64\n",
       "koi_teq              float64\n",
       "koi_teq_err1         float64\n",
       "koi_teq_err2         float64\n",
       "koi_insol            float64\n",
       "koi_insol_err1       float64\n",
       "koi_insol_err2       float64\n",
       "koi_model_snr        float64\n",
       "koi_tce_plnt_num     float64\n",
       "koi_tce_delivname    object \n",
       "koi_steff            float64\n",
       "koi_steff_err1       float64\n",
       "koi_steff_err2       float64\n",
       "koi_slogg            float64\n",
       "koi_slogg_err1       float64\n",
       "koi_slogg_err2       float64\n",
       "koi_srad             float64\n",
       "koi_srad_err1        float64\n",
       "koi_srad_err2        float64\n",
       "ra                   float64\n",
       "dec                  float64\n",
       "koi_kepmag           float64\n",
       "dtype: object"
      ]
     },
     "execution_count": 8,
     "metadata": {},
     "output_type": "execute_result"
    }
   ],
   "source": [
    "Kepler_df.dtypes"
   ]
  },
  {
   "cell_type": "code",
   "execution_count": 9,
   "metadata": {},
   "outputs": [],
   "source": [
    "df = Kepler_df.drop(['koi_tce_delivname'],axis=1)"
   ]
  },
  {
   "cell_type": "code",
   "execution_count": 10,
   "metadata": {},
   "outputs": [
    {
     "data": {
      "text/plain": [
       "(9564, 49)"
      ]
     },
     "execution_count": 10,
     "metadata": {},
     "output_type": "execute_result"
    }
   ],
   "source": [
    "df.shape"
   ]
  },
  {
   "cell_type": "code",
   "execution_count": 11,
   "metadata": {},
   "outputs": [
    {
     "name": "stdout",
     "output_type": "stream",
     "text": [
      "Requirement already satisfied: xgboost in c:\\programdata\\anaconda3\\envs\\ut_ml\\lib\\site-packages (0.90)\n",
      "Requirement already satisfied: scipy in c:\\programdata\\anaconda3\\envs\\ut_ml\\lib\\site-packages (from xgboost) (1.2.1)\n",
      "Requirement already satisfied: numpy in c:\\programdata\\anaconda3\\envs\\ut_ml\\lib\\site-packages (from xgboost) (1.16.2)\n",
      "Requirement already satisfied: joblib in c:\\programdata\\anaconda3\\envs\\ut_ml\\lib\\site-packages (0.13.2)\n"
     ]
    }
   ],
   "source": [
    "!pip install xgboost\n",
    "!pip install joblib"
   ]
  },
  {
   "cell_type": "code",
   "execution_count": 12,
   "metadata": {},
   "outputs": [
    {
     "data": {
      "text/plain": [
       "0       0\n",
       "1       0\n",
       "2       1\n",
       "3       1\n",
       "4       0\n",
       "5       0\n",
       "6       0\n",
       "7       0\n",
       "8       1\n",
       "9       0\n",
       "10      0\n",
       "11      0\n",
       "12      0\n",
       "13      0\n",
       "14      1\n",
       "15      1\n",
       "16      1\n",
       "17      1\n",
       "18      0\n",
       "19      0\n",
       "20      1\n",
       "21      0\n",
       "22      0\n",
       "23      0\n",
       "24      1\n",
       "25      0\n",
       "26      0\n",
       "27      0\n",
       "28      1\n",
       "29      1\n",
       "       ..\n",
       "9534    1\n",
       "9535    1\n",
       "9536    1\n",
       "9537    1\n",
       "9538    1\n",
       "9539    0\n",
       "9540    0\n",
       "9541    1\n",
       "9542    0\n",
       "9543    1\n",
       "9544    0\n",
       "9545    1\n",
       "9546    0\n",
       "9547    1\n",
       "9548    1\n",
       "9549    1\n",
       "9550    0\n",
       "9551    0\n",
       "9552    1\n",
       "9553    1\n",
       "9554    1\n",
       "9555    1\n",
       "9556    1\n",
       "9557    0\n",
       "9558    0\n",
       "9559    1\n",
       "9560    1\n",
       "9561    0\n",
       "9562    1\n",
       "9563    1\n",
       "Name: koi_pdisposition, Length: 9564, dtype: int32"
      ]
     },
     "execution_count": 12,
     "metadata": {},
     "output_type": "execute_result"
    }
   ],
   "source": [
    "from sklearn.preprocessing import LabelEncoder\n",
    "le = LabelEncoder()\n",
    "\n",
    "df['koi_disposition'] = le.fit_transform(df['koi_disposition'])\n",
    "df['koi_disposition']\n",
    "\n",
    "df['koi_pdisposition'] = le.fit_transform(df['koi_pdisposition'])\n",
    "df['koi_pdisposition']"
   ]
  },
  {
   "cell_type": "code",
   "execution_count": 13,
   "metadata": {},
   "outputs": [
    {
     "data": {
      "text/plain": [
       "(9564, 49)"
      ]
     },
     "execution_count": 13,
     "metadata": {},
     "output_type": "execute_result"
    }
   ],
   "source": [
    "df = df.fillna(0)\n",
    "df.shape"
   ]
  },
  {
   "cell_type": "code",
   "execution_count": 14,
   "metadata": {},
   "outputs": [],
   "source": [
    "data = df.values\n",
    "X = data[:, 5:49]\n",
    "y = data[:, 4]"
   ]
  },
  {
   "cell_type": "code",
   "execution_count": 15,
   "metadata": {},
   "outputs": [
    {
     "data": {
      "text/plain": [
       "(9564, 44)"
      ]
     },
     "execution_count": 15,
     "metadata": {},
     "output_type": "execute_result"
    }
   ],
   "source": [
    "X.shape"
   ]
  },
  {
   "cell_type": "code",
   "execution_count": 16,
   "metadata": {},
   "outputs": [
    {
     "data": {
      "text/plain": [
       "array([1, 1, 2, ..., 0, 2, 2])"
      ]
     },
     "execution_count": 16,
     "metadata": {},
     "output_type": "execute_result"
    }
   ],
   "source": [
    "y\n",
    "y=y.astype(int)\n",
    "y"
   ]
  },
  {
   "cell_type": "code",
   "execution_count": 17,
   "metadata": {},
   "outputs": [
    {
     "name": "stderr",
     "output_type": "stream",
     "text": [
      "C:\\ProgramData\\Anaconda3\\envs\\ut_ml\\lib\\site-packages\\sklearn\\utils\\validation.py:595: DataConversionWarning: Data with input dtype object was converted to float64 by MinMaxScaler.\n",
      "  warnings.warn(msg, DataConversionWarning)\n"
     ]
    },
    {
     "data": {
      "text/plain": [
       "array([[0.        , 1.        , 0.        , ..., 0.55247338, 0.73383732,\n",
       "        0.76723491],\n",
       "       [0.        , 0.969     , 0.        , ..., 0.55247338, 0.73383732,\n",
       "        0.76723491],\n",
       "       [1.        , 0.        , 0.        , ..., 0.78434556, 0.73335999,\n",
       "        0.77168425],\n",
       "       ...,\n",
       "       [0.        , 0.497     , 0.        , ..., 0.30440085, 0.67174867,\n",
       "        0.73773934],\n",
       "       [1.        , 0.021     , 0.        , ..., 0.65447887, 0.67257754,\n",
       "        0.76913463],\n",
       "       [1.        , 0.        , 0.        , ..., 0.78457191, 0.66907089,\n",
       "        0.74118882]])"
      ]
     },
     "execution_count": 17,
     "metadata": {},
     "output_type": "execute_result"
    }
   ],
   "source": [
    "scaled = preprocessing.MinMaxScaler()\n",
    "scaled_X = scaled.fit_transform(X)\n",
    "scaled_X"
   ]
  },
  {
   "cell_type": "code",
   "execution_count": 18,
   "metadata": {},
   "outputs": [
    {
     "data": {
      "text/plain": [
       "(7173, 44)"
      ]
     },
     "execution_count": 18,
     "metadata": {},
     "output_type": "execute_result"
    }
   ],
   "source": [
    "X_train, X_test, y_train, y_test = train_test_split(scaled_X, y, random_state=42)\n",
    "X_train.shape"
   ]
  },
  {
   "cell_type": "code",
   "execution_count": 19,
   "metadata": {},
   "outputs": [
    {
     "name": "stdout",
     "output_type": "stream",
     "text": [
      "xgb_Accuracy: 0.9155165202843998 \n",
      "\n",
      "              precision    recall  f1-score   support\n",
      "\n",
      "           0       0.86      0.79      0.83       567\n",
      "           1       0.81      0.85      0.83       574\n",
      "           2       0.99      1.00      0.99      1250\n",
      "\n",
      "   micro avg       0.92      0.92      0.92      2391\n",
      "   macro avg       0.89      0.88      0.88      2391\n",
      "weighted avg       0.92      0.92      0.92      2391\n",
      "\n"
     ]
    },
    {
     "data": {
      "text/plain": [
       "['xgb_model_koi.sav']"
      ]
     },
     "execution_count": 19,
     "metadata": {},
     "output_type": "execute_result"
    }
   ],
   "source": [
    "#Model1:XGB\n",
    "# fit model no training data\n",
    "xgb_model = make_pipeline(StandardScaler(),xgb.XGBClassifier())\n",
    "xgb_model.fit(X_train, y_train)\n",
    "print(f'xgb_Accuracy: {xgb_model.score(X_test, y_test)} \\n')\n",
    "print(classification_report(y_test, xgb_model.predict(X_test)))\n",
    "filename1 = 'xgb_model_koi.sav'\n",
    "joblib.dump(xgb_model, filename1)"
   ]
  },
  {
   "cell_type": "code",
   "execution_count": 20,
   "metadata": {},
   "outputs": [
    {
     "name": "stderr",
     "output_type": "stream",
     "text": [
      "C:\\ProgramData\\Anaconda3\\envs\\ut_ml\\lib\\site-packages\\sklearn\\linear_model\\logistic.py:433: FutureWarning: Default solver will be changed to 'lbfgs' in 0.22. Specify a solver to silence this warning.\n",
      "  FutureWarning)\n",
      "C:\\ProgramData\\Anaconda3\\envs\\ut_ml\\lib\\site-packages\\sklearn\\linear_model\\logistic.py:460: FutureWarning: Default multi_class will be changed to 'auto' in 0.22. Specify the multi_class option to silence this warning.\n",
      "  \"this warning.\", FutureWarning)\n"
     ]
    },
    {
     "name": "stdout",
     "output_type": "stream",
     "text": [
      "LR_Accuracy: 0.8879130071099958 \n",
      "\n",
      "              precision    recall  f1-score   support\n",
      "\n",
      "           0       0.87      0.66      0.75       567\n",
      "           1       0.72      0.87      0.79       574\n",
      "           2       0.99      1.00      0.99      1250\n",
      "\n",
      "   micro avg       0.89      0.89      0.89      2391\n",
      "   macro avg       0.86      0.84      0.84      2391\n",
      "weighted avg       0.89      0.89      0.89      2391\n",
      "\n"
     ]
    },
    {
     "data": {
      "text/plain": [
       "['LR_model_koi.sav']"
      ]
     },
     "execution_count": 20,
     "metadata": {},
     "output_type": "execute_result"
    }
   ],
   "source": [
    "#Model2:logisticRegression\n",
    "#%%time\n",
    "\n",
    "model_log_reg = make_pipeline(StandardScaler(),LogisticRegression())\n",
    "\n",
    "model_log_reg.fit(X_train, y_train)\n",
    "\n",
    "print(f'LR_Accuracy: {model_log_reg.score(X_test, y_test)} \\n')\n",
    "print(classification_report(y_test, model_log_reg.predict(X_test)))\n",
    "filename2 = 'LR_model_koi.sav'\n",
    "joblib.dump(model_log_reg, filename2)\n"
   ]
  },
  {
   "cell_type": "code",
   "execution_count": 21,
   "metadata": {},
   "outputs": [],
   "source": [
    "#param_grid={\n",
    "#     'n_estimators':[500,1000,3000],\n",
    "#     'max_depth':[4,6,8,10,20],\n",
    "#     'learning_rate':[0.1,0.05,0.02,0.01],\n",
    "#     'max_features':[1.0,0.3,0.1],\n",
    "#     'loss':['deviance','exponential']\n",
    "# }\n",
    "    # gs_cv = GridSearchCV(GB_model,param_grid,n_jobs=4)\n",
    "    # gs_cv.fit(X_train,y_train)\n",
    "    # print(gs_cv.best_params_)"
   ]
  },
  {
   "cell_type": "code",
   "execution_count": 22,
   "metadata": {
    "scrolled": true
   },
   "outputs": [],
   "source": [
    "# from sklearn.model_selection import GridSearchCV\n",
    "# from sklearn.linear_model import LogisticRegression\n",
    "# param_grid={\"C\":np.logspace(-3,3,7), \"penalty\":[\"l1\",\"l2\"]}# l1 lasso l2 ridge\n",
    "# logreg=LogisticRegression()\n",
    "# logreg_cv=GridSearchCV(logreg,param_grid,cv=10)\n",
    "# logreg_cv.fit(X_train,y_train)\n",
    "\n",
    "# #print(\"tuned hpyerparameters :(best parameters) \",logreg_cv.best_params_)\n",
    "# print(\"accuracy :\",logreg_cv.best_score_)"
   ]
  },
  {
   "cell_type": "code",
   "execution_count": 23,
   "metadata": {},
   "outputs": [
    {
     "name": "stdout",
     "output_type": "stream",
     "text": [
      "SVC_Accuracy: 0.8352153910497699 \n",
      "\n",
      "              precision    recall  f1-score   support\n",
      "\n",
      "           0       0.92      0.36      0.52       567\n",
      "           1       0.60      0.94      0.73       574\n",
      "           2       0.99      1.00      0.99      1250\n",
      "\n",
      "   micro avg       0.84      0.84      0.84      2391\n",
      "   macro avg       0.84      0.77      0.75      2391\n",
      "weighted avg       0.88      0.84      0.82      2391\n",
      "\n"
     ]
    },
    {
     "data": {
      "text/plain": [
       "['svm_model_koi.sav']"
      ]
     },
     "execution_count": 23,
     "metadata": {},
     "output_type": "execute_result"
    }
   ],
   "source": [
    "#Model3:SVC\n",
    "#%%time\n",
    "clf = svm.SVC(gamma='scale',probability=True)\n",
    "clf.fit(X_train,y_train)\n",
    "print(f'SVC_Accuracy: {clf.score(X_test, y_test)} \\n')\n",
    "print(classification_report(y_test, clf.predict(X_test)))\n",
    "filename3 = 'svm_model_koi.sav'\n",
    "joblib.dump(clf, filename3)\n"
   ]
  },
  {
   "cell_type": "code",
   "execution_count": 24,
   "metadata": {},
   "outputs": [
    {
     "name": "stdout",
     "output_type": "stream",
     "text": [
      "GB_Accuracy: 0.3672103722291928 \n",
      "\n",
      "              precision    recall  f1-score   support\n",
      "\n",
      "           0       0.00      0.00      0.00       567\n",
      "           1       0.21      0.43      0.28       574\n",
      "           2       0.53      0.50      0.52      1250\n",
      "\n",
      "   micro avg       0.37      0.37      0.37      2391\n",
      "   macro avg       0.25      0.31      0.27      2391\n",
      "weighted avg       0.33      0.37      0.34      2391\n",
      "\n"
     ]
    },
    {
     "name": "stderr",
     "output_type": "stream",
     "text": [
      "C:\\ProgramData\\Anaconda3\\envs\\ut_ml\\lib\\site-packages\\sklearn\\metrics\\classification.py:1143: UndefinedMetricWarning: Precision and F-score are ill-defined and being set to 0.0 in labels with no predicted samples.\n",
      "  'precision', 'predicted', average, warn_for)\n",
      "C:\\ProgramData\\Anaconda3\\envs\\ut_ml\\lib\\site-packages\\sklearn\\metrics\\classification.py:1143: UndefinedMetricWarning: Precision and F-score are ill-defined and being set to 0.0 in labels with no predicted samples.\n",
      "  'precision', 'predicted', average, warn_for)\n",
      "C:\\ProgramData\\Anaconda3\\envs\\ut_ml\\lib\\site-packages\\sklearn\\metrics\\classification.py:1143: UndefinedMetricWarning: Precision and F-score are ill-defined and being set to 0.0 in labels with no predicted samples.\n",
      "  'precision', 'predicted', average, warn_for)\n"
     ]
    },
    {
     "data": {
      "text/plain": [
       "['GB_model_koi.sav']"
      ]
     },
     "execution_count": 24,
     "metadata": {},
     "output_type": "execute_result"
    }
   ],
   "source": [
    "#model4 = GradientBooster\n",
    "GB_model = ensemble.GradientBoostingClassifier(loss='deviance', learning_rate=10, n_estimators=1000,\n",
    "                                               min_samples_split=2, min_samples_leaf=10, max_depth=4, min_impurity_decrease=0.0,                                               \n",
    "                                               min_impurity_split=None, init=None, random_state=None, max_features=0.1, verbose=0)\n",
    "GB_model.fit(X_train, y_train)\n",
    "\n",
    "print(f'GB_Accuracy: {GB_model.score(X_test, y_test)} \\n')\n",
    "print(classification_report(y_test, GB_model.predict(X_test)))\n",
    "filename4 = 'GB_model_koi.sav'\n",
    "joblib.dump(GB_model, filename4)"
   ]
  },
  {
   "cell_type": "code",
   "execution_count": 25,
   "metadata": {},
   "outputs": [],
   "source": [
    "# param_grid={\n",
    "#     'n_estimators':[500,1000,3000],\n",
    "#     'max_depth':[4,6,8,10,20],\n",
    "#     'learning_rate':[0.1,0.05,0.02,0.01],\n",
    "#     'max_features':[1.0,0.3,0.1],\n",
    "#     'loss':['deviance','exponential']\n",
    "# }\n",
    "# gs_cv = GridSearchCV(GB_model,param_grid,n_jobs=4)\n",
    "# gs_cv.fit(X_train,y_train)\n",
    "# print(gs_cv.best_params_)"
   ]
  },
  {
   "cell_type": "markdown",
   "metadata": {},
   "source": [
    "### There is a very big leap in performance by just using parameter tuning "
   ]
  },
  {
   "cell_type": "code",
   "execution_count": 26,
   "metadata": {},
   "outputs": [
    {
     "name": "stdout",
     "output_type": "stream",
     "text": [
      "GB_best_Accuracy: 0.9159347553324969 \n",
      "\n",
      "              precision    recall  f1-score   support\n",
      "\n",
      "           0       0.86      0.80      0.83       567\n",
      "           1       0.81      0.85      0.83       574\n",
      "           2       0.99      1.00      0.99      1250\n",
      "\n",
      "   micro avg       0.92      0.92      0.92      2391\n",
      "   macro avg       0.89      0.88      0.88      2391\n",
      "weighted avg       0.92      0.92      0.92      2391\n",
      "\n"
     ]
    },
    {
     "data": {
      "text/plain": [
       "['GB_best_model_koi.sav']"
      ]
     },
     "execution_count": 26,
     "metadata": {},
     "output_type": "execute_result"
    }
   ],
   "source": [
    "#model5 = Gridsearched GradientBooster\n",
    "GB_best_model = ensemble.GradientBoostingClassifier(loss='deviance', learning_rate=0.02, n_estimators=500,\n",
    "                                               min_samples_split=2, min_samples_leaf=10, max_depth=4, min_impurity_decrease=0.0,                                               \n",
    "                                               min_impurity_split=None, init=None, random_state=None, max_features=0.3, verbose=0)\n",
    "GB_best_model.fit(X_train, y_train)\n",
    "\n",
    "print(f'GB_best_Accuracy: {GB_best_model.score(X_test, y_test)} \\n')\n",
    "print(classification_report(y_test, GB_best_model.predict(X_test)))\n",
    "filename5 = 'GB_best_model_koi.sav'\n",
    "joblib.dump(GB_best_model, filename5)"
   ]
  },
  {
   "cell_type": "code",
   "execution_count": 27,
   "metadata": {},
   "outputs": [
    {
     "name": "stdout",
     "output_type": "stream",
     "text": [
      "LDA_Accuracy: 0.8515265579255542 \n",
      "\n",
      "              precision    recall  f1-score   support\n",
      "\n",
      "           0       0.93      0.43      0.59       567\n",
      "           1       0.63      0.94      0.75       574\n",
      "           2       0.99      1.00      0.99      1250\n",
      "\n",
      "   micro avg       0.85      0.85      0.85      2391\n",
      "   macro avg       0.85      0.79      0.78      2391\n",
      "weighted avg       0.89      0.85      0.84      2391\n",
      "\n"
     ]
    },
    {
     "name": "stderr",
     "output_type": "stream",
     "text": [
      "C:\\ProgramData\\Anaconda3\\envs\\ut_ml\\lib\\site-packages\\sklearn\\discriminant_analysis.py:388: UserWarning: Variables are collinear.\n",
      "  warnings.warn(\"Variables are collinear.\")\n"
     ]
    },
    {
     "data": {
      "text/plain": [
       "['LDA_model_koi.sav']"
      ]
     },
     "execution_count": 27,
     "metadata": {},
     "output_type": "execute_result"
    }
   ],
   "source": [
    "#Model6:LinearDiscriminantAnalysis\n",
    "#%%time\n",
    "\n",
    "model_LDA = make_pipeline(StandardScaler(),LinearDiscriminantAnalysis())\n",
    "\n",
    "model_LDA.fit(X_train, y_train)\n",
    "\n",
    "print(f'LDA_Accuracy: {model_LDA.score(X_test, y_test)} \\n')\n",
    "print(classification_report(y_test, model_LDA.predict(X_test)))\n",
    "filename6 = 'LDA_model_koi.sav'\n",
    "joblib.dump(model_LDA, filename6)\n"
   ]
  },
  {
   "cell_type": "code",
   "execution_count": 28,
   "metadata": {},
   "outputs": [
    {
     "name": "stdout",
     "output_type": "stream",
     "text": [
      "MLP_Accuracy: 0.9113341698034295 \n",
      "\n",
      "              precision    recall  f1-score   support\n",
      "\n",
      "           0       0.85      0.79      0.82       567\n",
      "           1       0.81      0.84      0.82       574\n",
      "           2       0.99      1.00      0.99      1250\n",
      "\n",
      "   micro avg       0.91      0.91      0.91      2391\n",
      "   macro avg       0.88      0.88      0.88      2391\n",
      "weighted avg       0.91      0.91      0.91      2391\n",
      "\n"
     ]
    },
    {
     "name": "stderr",
     "output_type": "stream",
     "text": [
      "C:\\ProgramData\\Anaconda3\\envs\\ut_ml\\lib\\site-packages\\sklearn\\neural_network\\multilayer_perceptron.py:562: ConvergenceWarning: Stochastic Optimizer: Maximum iterations (200) reached and the optimization hasn't converged yet.\n",
      "  % self.max_iter, ConvergenceWarning)\n"
     ]
    },
    {
     "data": {
      "text/plain": [
       "['MLP_model_koi.sav']"
      ]
     },
     "execution_count": 28,
     "metadata": {},
     "output_type": "execute_result"
    }
   ],
   "source": [
    "#Model7:MLPClassifier\n",
    "#%%time\n",
    "\n",
    "model_MLP = make_pipeline(StandardScaler(),MLPClassifier())\n",
    "\n",
    "model_MLP.fit(X_train, y_train)\n",
    "\n",
    "print(f'MLP_Accuracy: {model_MLP.score(X_test, y_test)} \\n')\n",
    "print(classification_report(y_test, model_MLP.predict(X_test)))\n",
    "filename7 = 'MLP_model_koi.sav'\n",
    "joblib.dump(model_MLP, filename7)\n"
   ]
  },
  {
   "cell_type": "code",
   "execution_count": 29,
   "metadata": {},
   "outputs": [
    {
     "name": "stdout",
     "output_type": "stream",
     "text": [
      "ABC_Accuracy: 0.8837306566290255 \n",
      "\n",
      "              precision    recall  f1-score   support\n",
      "\n",
      "           0       0.88      0.62      0.73       567\n",
      "           1       0.70      0.89      0.79       574\n",
      "           2       0.99      1.00      0.99      1250\n",
      "\n",
      "   micro avg       0.88      0.88      0.88      2391\n",
      "   macro avg       0.86      0.84      0.84      2391\n",
      "weighted avg       0.89      0.88      0.88      2391\n",
      "\n"
     ]
    },
    {
     "data": {
      "text/plain": [
       "['ABC_model_koi.sav']"
      ]
     },
     "execution_count": 29,
     "metadata": {},
     "output_type": "execute_result"
    }
   ],
   "source": [
    "#Model8=AdaBoostClassifier\n",
    "#%%time\n",
    "\n",
    "model_ABC = make_pipeline(StandardScaler(),AdaBoostClassifier())\n",
    "\n",
    "model_ABC.fit(X_train, y_train)\n",
    "\n",
    "print(f'ABC_Accuracy: {model_ABC.score(X_test, y_test)} \\n')\n",
    "print(classification_report(y_test, model_ABC.predict(X_test)))\n",
    "filename8 = 'ABC_model_koi.sav'\n",
    "joblib.dump(model_ABC, filename8)"
   ]
  },
  {
   "cell_type": "code",
   "execution_count": 30,
   "metadata": {},
   "outputs": [
    {
     "name": "stderr",
     "output_type": "stream",
     "text": [
      "C:\\ProgramData\\Anaconda3\\envs\\ut_ml\\lib\\site-packages\\sklearn\\ensemble\\forest.py:246: FutureWarning: The default value of n_estimators will change from 10 in version 0.20 to 100 in 0.22.\n",
      "  \"10 in version 0.20 to 100 in 0.22.\", FutureWarning)\n"
     ]
    },
    {
     "name": "stdout",
     "output_type": "stream",
     "text": [
      "RFC_Accuracy: 0.8837306566290255 \n",
      "\n",
      "              precision    recall  f1-score   support\n",
      "\n",
      "           0       0.79      0.81      0.80       567\n",
      "           1       0.80      0.76      0.78       574\n",
      "           2       0.99      1.00      0.99      1250\n",
      "\n",
      "   micro avg       0.90      0.90      0.90      2391\n",
      "   macro avg       0.86      0.86      0.86      2391\n",
      "weighted avg       0.90      0.90      0.90      2391\n",
      "\n"
     ]
    },
    {
     "data": {
      "text/plain": [
       "['RFC_model_koi.sav']"
      ]
     },
     "execution_count": 30,
     "metadata": {},
     "output_type": "execute_result"
    }
   ],
   "source": [
    "#Model9=RandomForestClassifier\n",
    "#%%time\n",
    "\n",
    "model_RFC = make_pipeline(StandardScaler(),RandomForestClassifier())\n",
    "\n",
    "model_RFC.fit(X_train, y_train)\n",
    "\n",
    "print(f'RFC_Accuracy: {model_ABC.score(X_test, y_test)} \\n')\n",
    "print(classification_report(y_test, model_RFC.predict(X_test)))\n",
    "filename9 = 'RFC_model_koi.sav'\n",
    "joblib.dump(model_RFC, filename9)"
   ]
  },
  {
   "cell_type": "markdown",
   "metadata": {},
   "source": [
    "### Grid searching for best Hyperparameters for all 9 models"
   ]
  },
  {
   "cell_type": "code",
   "execution_count": null,
   "metadata": {},
   "outputs": [],
   "source": [
    "# from sklearn.base import BaseEstimator\n",
    "# #from sklearn.model_selection import GridSearchCV\n",
    "# names = [\n",
    "#          \"LogisticRegression\",\n",
    "#          \"XGBClassifier\",\n",
    "#          \"LinearDiscriminantAnalysis\",\n",
    "#          \"MLPClassifier\",\n",
    "#          \"AdaBoostClassifier\",\n",
    "#          \"RandomForestClassifier\"\n",
    "#         ]\n",
    "\n",
    "# class DummyEstimator(BaseEstimator):\n",
    "#     def fit(self): pass\n",
    "#     def score(self): pass\n",
    "\n",
    "# # Create a pipeline\n",
    "# pipe = Pipeline([('clf', DummyEstimator())]) # Placeholder Estimator\n",
    "\n",
    "# # Candidate learning algorithms and their hyperparameters\n",
    "# search_space = [{'clf': [LogisticRegression()], # Actual Estimator\n",
    "#                  'clf__penalty': ['l1', 'l2'],\n",
    "#                  'clf__C': np.logspace(0, 4, 10)},\n",
    "\n",
    "#                 {'clf': [XGBClassifier()],  \n",
    "#                  'max_depth':range(3,10,2),\n",
    "#                  'min_child_weight':range(1,6,2)},\n",
    "                \n",
    "#                 {'clf': [LinearDiscriminantAnalysis()], \n",
    "#                  'solver': ['svd', 'lsqr','eigen'],\n",
    "#                  'shrinkage':['None','auto']},\n",
    "\n",
    "#                 {'clf': [MLPClassifier()], \n",
    "#                  'hidden_layer_sizes': [(50,50,50), (50,100,50), (100,)],\n",
    "#                  'activation': ['tanh', 'relu'],\n",
    "#                  'solver': ['sgd', 'adam'],\n",
    "#                  'alpha': [0.0001, 0.05],\n",
    "#                  'learning_rate': ['constant','adaptive']},\n",
    "                \n",
    "#                 {'clf': [AdaBoostClassifier()], \n",
    "#                  'n_estimators': [50, 100],\n",
    "#                  'learning_rate' : [0.01,0.05,0.1,0.3,1],\n",
    "#                  'loss' : ['linear', 'square', 'exponential']},\n",
    "\n",
    "#                 {'clf': [RandomForestClassifier()],  \n",
    "#                  'bootstrap': [True, False],\n",
    "#                  'max_depth': [10, 20, 30, 40, 50, 60, 70, 80, 90, 100, None],\n",
    "#                  'max_features': ['auto', 'sqrt'],\n",
    "#                  'min_samples_leaf': [1, 2, 4],\n",
    "#                  'min_samples_split': [2, 5, 10],\n",
    "#                  'n_estimators': [200, 400, 600, 800, 1000, 1200, 1400, 1600, 1800, 2000]}]               \n",
    "\n",
    "\n",
    "# # Create grid search \n",
    "# #gs = GridSearchCV(pipe, search_space)\n",
    "# gs_clf = GridSearchCV(clf_pipe, param_grid=params, n_jobs=-1)\n",
    "#     clf = gs_clf.fit(X_train, y_train)\n",
    "#     score = clf.score(X_test, y_test)\n",
    "#     print(\"{} score: {}\".format(name, score))"
   ]
  },
  {
   "cell_type": "code",
   "execution_count": 33,
   "metadata": {},
   "outputs": [
    {
     "name": "stderr",
     "output_type": "stream",
     "text": [
      "C:\\ProgramData\\Anaconda3\\envs\\ut_ml\\lib\\site-packages\\sklearn\\linear_model\\logistic.py:433: FutureWarning: Default solver will be changed to 'lbfgs' in 0.22. Specify a solver to silence this warning.\n",
      "  FutureWarning)\n",
      "C:\\ProgramData\\Anaconda3\\envs\\ut_ml\\lib\\site-packages\\sklearn\\linear_model\\logistic.py:460: FutureWarning: Default multi_class will be changed to 'auto' in 0.22. Specify the multi_class option to silence this warning.\n",
      "  \"this warning.\", FutureWarning)\n"
     ]
    },
    {
     "name": "stdout",
     "output_type": "stream",
     "text": [
      "==============================\n",
      "LogisticRegression\n",
      "****Results****\n",
      "Accuracy: 87.1184%\n",
      "Log Loss: 0.28425584124319736\n",
      "==============================\n",
      "XGBClassifier\n",
      "****Results****\n",
      "Accuracy: 91.5935%\n",
      "Log Loss: 0.19934165504957646\n"
     ]
    },
    {
     "name": "stderr",
     "output_type": "stream",
     "text": [
      "C:\\ProgramData\\Anaconda3\\envs\\ut_ml\\lib\\site-packages\\sklearn\\ensemble\\forest.py:246: FutureWarning: The default value of n_estimators will change from 10 in version 0.20 to 100 in 0.22.\n",
      "  \"10 in version 0.20 to 100 in 0.22.\", FutureWarning)\n"
     ]
    },
    {
     "name": "stdout",
     "output_type": "stream",
     "text": [
      "==============================\n",
      "RandomForestClassifier\n",
      "****Results****\n",
      "Accuracy: 90.2969%\n",
      "Log Loss: 0.49517553212029514\n",
      "==============================\n",
      "AdaBoostClassifier\n",
      "****Results****\n",
      "Accuracy: 88.3731%\n",
      "Log Loss: 0.6627978009731527\n",
      "==============================\n",
      "GradientBoostingClassifier\n",
      "****Results****\n",
      "Accuracy: 91.4680%\n",
      "Log Loss: 0.2023494541584086\n",
      "==============================\n",
      "LinearDiscriminantAnalysis\n",
      "****Results****\n",
      "Accuracy: 85.1527%\n",
      "Log Loss: 0.5431055505016605\n"
     ]
    },
    {
     "name": "stderr",
     "output_type": "stream",
     "text": [
      "C:\\ProgramData\\Anaconda3\\envs\\ut_ml\\lib\\site-packages\\sklearn\\discriminant_analysis.py:388: UserWarning: Variables are collinear.\n",
      "  warnings.warn(\"Variables are collinear.\")\n"
     ]
    },
    {
     "name": "stdout",
     "output_type": "stream",
     "text": [
      "==============================\n",
      "MLPClassifier\n",
      "****Results****\n",
      "Accuracy: 90.1715%\n",
      "Log Loss: 0.22126664419179937\n",
      "==============================\n"
     ]
    },
    {
     "name": "stderr",
     "output_type": "stream",
     "text": [
      "C:\\ProgramData\\Anaconda3\\envs\\ut_ml\\lib\\site-packages\\sklearn\\neural_network\\multilayer_perceptron.py:562: ConvergenceWarning: Stochastic Optimizer: Maximum iterations (200) reached and the optimization hasn't converged yet.\n",
      "  % self.max_iter, ConvergenceWarning)\n"
     ]
    }
   ],
   "source": [
    "from sklearn.metrics import accuracy_score, log_loss\n",
    "classifiers = [\n",
    "    LogisticRegression(),\n",
    "    XGBClassifier(),\n",
    "    #SVC(kernel=\"rbf\", C=0.025, probability=True),\n",
    "    RandomForestClassifier(),\n",
    "    AdaBoostClassifier(),\n",
    "    GradientBoostingClassifier(),\n",
    "    LinearDiscriminantAnalysis(),\n",
    "    MLPClassifier()]\n",
    "\n",
    "# Logging for Visual Comparison\n",
    "log_cols=[\"Classifier\", \"Accuracy\", \"Log Loss\"]\n",
    "log = pd.DataFrame(columns=log_cols)\n",
    "\n",
    "for clf in classifiers:\n",
    "    clf.fit(X_train, y_train)\n",
    "    name = clf.__class__.__name__\n",
    "    \n",
    "    print(\"=\"*30)\n",
    "    print(name)\n",
    "    \n",
    "    print('****Results****')\n",
    "    results = clf.predict(X_test)\n",
    "    acc = accuracy_score(y_test,results)\n",
    "    print(\"Accuracy: {:.4%}\".format(acc))\n",
    "    \n",
    "    results = clf.predict_proba(X_test)\n",
    "    ll = log_loss(y_test, results)\n",
    "    print(\"Log Loss: {}\".format(ll))\n",
    "    \n",
    "    log_entry = pd.DataFrame([[name, acc*100, ll]], columns=log_cols)\n",
    "    log = log.append(log_entry)\n",
    "    \n",
    "print(\"=\"*30)"
   ]
  },
  {
   "cell_type": "code",
   "execution_count": 36,
   "metadata": {},
   "outputs": [
    {
     "data": {
      "image/png": "[encoded data removed]",
      "text/plain": [
       "<Figure size 432x288 with 1 Axes>"
      ]
     },
     "metadata": {
      "needs_background": "light"
     },
     "output_type": "display_data"
    },
    {
     "data": {
      "image/png": "[encoded data removed]",
      "text/plain": [
       "<Figure size 432x288 with 1 Axes>"
      ]
     },
     "metadata": {
      "needs_background": "light"
     },
     "output_type": "display_data"
    }
   ],
   "source": [
    "# Visual comparison of Models\n",
    "sb.set_color_codes(\"muted\")\n",
    "sb.barplot(x='Accuracy', y='Classifier', data=log, color=\"b\")\n",
    "\n",
    "plt.xlabel('Accuracy %')\n",
    "plt.title('Classifier Accuracy')\n",
    "plt.show()\n",
    "\n",
    "sb.set_color_codes(\"muted\")\n",
    "sb.barplot(x='Log Loss', y='Classifier', data=log, color=\"r\")\n",
    "\n",
    "plt.xlabel('Log Loss')\n",
    "plt.title('Classifier Log Loss')\n",
    "plt.show()"
   ]
  },
  {
   "cell_type": "code",
   "execution_count": null,
   "metadata": {},
   "outputs": [],
   "source": [
    "# Logarithmic loss (related to cross-entropy) measures the performance of a classification model\n",
    "# where the prediction input is a probability value between 0 and 1. \n",
    "# The goal of our machine learning models is to minimize this value. A perfect model would have a log loss of 0.\n",
    "# Log loss increases as the predicted probability diverges from the actual label."
   ]
  },
  {
   "cell_type": "code",
   "execution_count": 37,
   "metadata": {},
   "outputs": [],
   "source": [
    "# Use three Classifiers based on Max Accuracy and Min Log Loss for stacking through Ensemble\n",
    "#XGB, GradientBoostingclassifier, MLPClassifier"
   ]
  },
  {
   "cell_type": "code",
   "execution_count": 38,
   "metadata": {},
   "outputs": [],
   "source": [
    "xgb_model=joblib.load('./xgb_model_koi.sav')\n",
    "MLP_model=joblib.load('./MLP_model_koi.sav')\n",
    "GB_best_model=joblib.load('./GB_best_model_koi.sav')\n"
   ]
  },
  {
   "cell_type": "code",
   "execution_count": 39,
   "metadata": {},
   "outputs": [
    {
     "name": "stdout",
     "output_type": "stream",
     "text": [
      "[2 2 2 ... 1 1 2]\n"
     ]
    }
   ],
   "source": [
    "xgb_model_results=xgb_model.predict(X_test)\n",
    "print(xgb_model_results)"
   ]
  },
  {
   "cell_type": "code",
   "execution_count": 40,
   "metadata": {},
   "outputs": [
    {
     "name": "stdout",
     "output_type": "stream",
     "text": [
      "[2 2 2 ... 1 1 2]\n"
     ]
    }
   ],
   "source": [
    "MLP_model_results=MLP_model.predict(X_test)\n",
    "print(MLP_model_results)"
   ]
  },
  {
   "cell_type": "code",
   "execution_count": 41,
   "metadata": {},
   "outputs": [
    {
     "name": "stdout",
     "output_type": "stream",
     "text": [
      "[2 2 2 ... 0 1 2]\n"
     ]
    }
   ],
   "source": [
    "GB_best_model_results= GB_best_model.predict(X_test)\n",
    "print(GB_best_model_results)"
   ]
  },
  {
   "cell_type": "code",
   "execution_count": 43,
   "metadata": {},
   "outputs": [
    {
     "name": "stdout",
     "output_type": "stream",
     "text": [
      "Collecting vecstack\n",
      "  Downloading https://files.pythonhosted.org/packages/d9/1d/7665736f10f3e15af9d51b4e73c16c8ea798e339f6bf4eadfa1dee77c672/vecstack-0.3.0.tar.gz\n",
      "Requirement already satisfied: numpy in c:\\programdata\\anaconda3\\envs\\ut_ml\\lib\\site-packages (from vecstack) (1.16.2)\n",
      "Requirement already satisfied: scipy in c:\\programdata\\anaconda3\\envs\\ut_ml\\lib\\site-packages (from vecstack) (1.2.1)\n",
      "Requirement already satisfied: scikit-learn>=0.18 in c:\\programdata\\anaconda3\\envs\\ut_ml\\lib\\site-packages (from vecstack) (0.20.3)\n",
      "Building wheels for collected packages: vecstack\n",
      "  Building wheel for vecstack (setup.py): started\n",
      "  Building wheel for vecstack (setup.py): finished with status 'done'\n",
      "  Stored in directory: C:\\Users\\Mrinalini\\AppData\\Local\\pip\\Cache\\wheels\\35\\6d\\ca\\bce17942bcf7c267b13c97c9c95e2f0ecf0b42160e6074f448\n",
      "Successfully built vecstack\n",
      "Installing collected packages: vecstack\n",
      "Successfully installed vecstack-0.3.0\n"
     ]
    }
   ],
   "source": [
    "!pip install vecstack\n",
    "from vecstack import stacking"
   ]
  },
  {
   "cell_type": "code",
   "execution_count": 44,
   "metadata": {},
   "outputs": [],
   "source": [
    "models = [\n",
    "    MLPClassifier(),\n",
    "        \n",
    "    GradientBoostingClassifier(),\n",
    "        \n",
    "    XGBClassifier()\n",
    "]"
   ]
  },
  {
   "cell_type": "code",
   "execution_count": 45,
   "metadata": {},
   "outputs": [
    {
     "name": "stdout",
     "output_type": "stream",
     "text": [
      "task:         [classification]\n",
      "n_classes:    [3]\n",
      "metric:       [accuracy_score]\n",
      "mode:         [oof_pred_bag]\n",
      "n_models:     [3]\n",
      "\n",
      "model  0:     [MLPClassifier]\n"
     ]
    },
    {
     "name": "stderr",
     "output_type": "stream",
     "text": [
      "C:\\ProgramData\\Anaconda3\\envs\\ut_ml\\lib\\site-packages\\sklearn\\neural_network\\multilayer_perceptron.py:562: ConvergenceWarning: Stochastic Optimizer: Maximum iterations (200) reached and the optimization hasn't converged yet.\n",
      "  % self.max_iter, ConvergenceWarning)\n"
     ]
    },
    {
     "name": "stdout",
     "output_type": "stream",
     "text": [
      "    fold  0:  [0.89025070]\n",
      "    fold  1:  [0.87451199]\n"
     ]
    },
    {
     "name": "stderr",
     "output_type": "stream",
     "text": [
      "C:\\ProgramData\\Anaconda3\\envs\\ut_ml\\lib\\site-packages\\sklearn\\neural_network\\multilayer_perceptron.py:562: ConvergenceWarning: Stochastic Optimizer: Maximum iterations (200) reached and the optimization hasn't converged yet.\n",
      "  % self.max_iter, ConvergenceWarning)\n"
     ]
    },
    {
     "name": "stdout",
     "output_type": "stream",
     "text": [
      "    fold  2:  [0.90016732]\n"
     ]
    },
    {
     "name": "stderr",
     "output_type": "stream",
     "text": [
      "C:\\ProgramData\\Anaconda3\\envs\\ut_ml\\lib\\site-packages\\sklearn\\neural_network\\multilayer_perceptron.py:562: ConvergenceWarning: Stochastic Optimizer: Maximum iterations (200) reached and the optimization hasn't converged yet.\n",
      "  % self.max_iter, ConvergenceWarning)\n"
     ]
    },
    {
     "name": "stdout",
     "output_type": "stream",
     "text": [
      "    fold  3:  [0.89341518]\n",
      "    ----\n",
      "    MEAN:     [0.88958630] + [0.00941136]\n",
      "    FULL:     [0.88958595]\n",
      "\n",
      "model  1:     [GradientBoostingClassifier]\n",
      "    fold  0:  [0.91420613]\n",
      "    fold  1:  [0.91411043]\n",
      "    fold  2:  [0.91243726]\n",
      "    fold  3:  [0.91964286]\n",
      "    ----\n",
      "    MEAN:     [0.91509917] + [0.00271597]\n",
      "    FULL:     [0.91509829]\n",
      "\n",
      "model  2:     [XGBClassifier]\n",
      "    fold  0:  [0.91364903]\n",
      "    fold  1:  [0.90909091]\n",
      "    fold  2:  [0.91578360]\n",
      "    fold  3:  [0.92020089]\n",
      "    ----\n",
      "    MEAN:     [0.91468111] + [0.00399997]\n",
      "    FULL:     [0.91468005]\n",
      "\n"
     ]
    }
   ],
   "source": [
    "S_train, S_test = stacking(models,                   \n",
    "                           X_train, y_train, X_test,   \n",
    "                           regression=False, \n",
    "     \n",
    "                           mode='oof_pred_bag', \n",
    "       \n",
    "                           needs_proba=False,\n",
    "         \n",
    "                           save_dir=None, \n",
    "            \n",
    "                           metric=accuracy_score, \n",
    "    \n",
    "                           n_folds=4, \n",
    "                 \n",
    "                           stratified=True,\n",
    "            \n",
    "                           shuffle=True,  \n",
    "            \n",
    "                           random_state=0,    \n",
    "         \n",
    "                           verbose=2)"
   ]
  },
  {
   "cell_type": "code",
   "execution_count": 48,
   "metadata": {},
   "outputs": [
    {
     "name": "stdout",
     "output_type": "stream",
     "text": [
      "Final prediction score: [0.91551652]\n"
     ]
    }
   ],
   "source": [
    "xgb_model_level2 = XGBClassifier(random_state=0, n_jobs=-1, learning_rate=0.1, \n",
    "                      n_estimators=100, max_depth=3)\n",
    "    \n",
    "xgb_model_level2 = xgb_model_level2.fit(S_train, y_train)\n",
    "\n",
    "y_pred = xgb_model_level2.predict(S_test)\n",
    "\n",
    "print('Final prediction score: [%.8f]' % accuracy_score(y_test, y_pred))\n"
   ]
  },
  {
   "cell_type": "code",
   "execution_count": 53,
   "metadata": {},
   "outputs": [
    {
     "name": "stdout",
     "output_type": "stream",
     "text": [
      "              precision    recall  f1-score   support\n",
      "\n",
      "           0       0.85      0.82      0.83       567\n",
      "           1       0.82      0.83      0.82       574\n",
      "           2       0.99      1.00      0.99      1250\n",
      "\n",
      "   micro avg       0.92      0.92      0.92      2391\n",
      "   macro avg       0.89      0.88      0.88      2391\n",
      "weighted avg       0.91      0.92      0.92      2391\n",
      "\n"
     ]
    },
    {
     "data": {
      "text/plain": [
       "['xgb_model_level2.sav']"
      ]
     },
     "execution_count": 53,
     "metadata": {},
     "output_type": "execute_result"
    }
   ],
   "source": [
    "print(classification_report(y_test, xgb_model_level2.predict(S_test)))\n",
    "filename = 'xgb_model_level2.sav'\n",
    "joblib.dump(xgb_model_level2, filename)"
   ]
  },
  {
   "cell_type": "code",
   "execution_count": 51,
   "metadata": {},
   "outputs": [
    {
     "name": "stderr",
     "output_type": "stream",
     "text": [
      "C:\\ProgramData\\Anaconda3\\envs\\ut_ml\\lib\\site-packages\\sklearn\\utils\\validation.py:595: DataConversionWarning: Data with input dtype int32 was converted to float64 by StandardScaler.\n",
      "  warnings.warn(msg, DataConversionWarning)\n",
      "C:\\ProgramData\\Anaconda3\\envs\\ut_ml\\lib\\site-packages\\sklearn\\utils\\validation.py:595: DataConversionWarning: Data with input dtype int32 was converted to float64 by StandardScaler.\n",
      "  warnings.warn(msg, DataConversionWarning)\n"
     ]
    },
    {
     "name": "stdout",
     "output_type": "stream",
     "text": [
      "Final prediction score: [0.91551652]\n"
     ]
    },
    {
     "name": "stderr",
     "output_type": "stream",
     "text": [
      "C:\\ProgramData\\Anaconda3\\envs\\ut_ml\\lib\\site-packages\\sklearn\\utils\\validation.py:595: DataConversionWarning: Data with input dtype int32 was converted to float64 by StandardScaler.\n",
      "  warnings.warn(msg, DataConversionWarning)\n"
     ]
    }
   ],
   "source": [
    "model_MLP_level2 = make_pipeline(StandardScaler(),MLPClassifier())\n",
    "\n",
    "model_MLP_level2 = model_MLP_level2.fit(S_train, y_train)\n",
    "y_pred = model_MLP_level2.predict(S_test)\n",
    "\n",
    "print('Final prediction score: [%.8f]' % accuracy_score(y_test, y_pred))\n",
    "\n"
   ]
  },
  {
   "cell_type": "code",
   "execution_count": 54,
   "metadata": {},
   "outputs": [
    {
     "name": "stdout",
     "output_type": "stream",
     "text": [
      "              precision    recall  f1-score   support\n",
      "\n",
      "           0       0.85      0.82      0.83       567\n",
      "           1       0.82      0.83      0.82       574\n",
      "           2       0.99      1.00      0.99      1250\n",
      "\n",
      "   micro avg       0.92      0.92      0.92      2391\n",
      "   macro avg       0.89      0.88      0.88      2391\n",
      "weighted avg       0.91      0.92      0.92      2391\n",
      "\n"
     ]
    },
    {
     "name": "stderr",
     "output_type": "stream",
     "text": [
      "C:\\ProgramData\\Anaconda3\\envs\\ut_ml\\lib\\site-packages\\sklearn\\utils\\validation.py:595: DataConversionWarning: Data with input dtype int32 was converted to float64 by StandardScaler.\n",
      "  warnings.warn(msg, DataConversionWarning)\n"
     ]
    },
    {
     "data": {
      "text/plain": [
       "['model_MLP_level2.sav']"
      ]
     },
     "execution_count": 54,
     "metadata": {},
     "output_type": "execute_result"
    }
   ],
   "source": [
    "print(classification_report(y_test,model_MLP_level2.predict(S_test)))\n",
    "filename = 'model_MLP_level2.sav'\n",
    "joblib.dump(model_MLP_level2, filename)"
   ]
  },
  {
   "cell_type": "code",
   "execution_count": 55,
   "metadata": {},
   "outputs": [
    {
     "name": "stdout",
     "output_type": "stream",
     "text": [
      "Final prediction score: [0.91509829]\n"
     ]
    }
   ],
   "source": [
    "GB_best_model_level2 = ensemble.GradientBoostingClassifier(loss='deviance', learning_rate=0.02, n_estimators=500,\n",
    "                                               min_samples_split=2, min_samples_leaf=10, max_depth=4, min_impurity_decrease=0.0,                                               \n",
    "                                               min_impurity_split=None, init=None, random_state=None, max_features=0.3, verbose=0)\n",
    "GB_best_model_level2 = GB_best_model_level2.fit(S_train, y_train)\n",
    "\n",
    "y_pred = GB_best_model_level2.predict(S_test)\n",
    "\n",
    "print('Final prediction score: [%.8f]' % accuracy_score(y_test, y_pred))\n"
   ]
  },
  {
   "cell_type": "code",
   "execution_count": 56,
   "metadata": {},
   "outputs": [
    {
     "name": "stdout",
     "output_type": "stream",
     "text": [
      "              precision    recall  f1-score   support\n",
      "\n",
      "           0       0.85      0.81      0.83       567\n",
      "           1       0.81      0.84      0.83       574\n",
      "           2       0.99      1.00      0.99      1250\n",
      "\n",
      "   micro avg       0.92      0.92      0.92      2391\n",
      "   macro avg       0.89      0.88      0.88      2391\n",
      "weighted avg       0.91      0.92      0.91      2391\n",
      "\n"
     ]
    },
    {
     "data": {
      "text/plain": [
       "['GB_best_model_level2.sav']"
      ]
     },
     "execution_count": 56,
     "metadata": {},
     "output_type": "execute_result"
    }
   ],
   "source": [
    "print(classification_report(y_test,GB_best_model_level2.predict(S_test)))\n",
    "filename = 'GB_best_model_level2.sav'\n",
    "joblib.dump(GB_best_model_level2, filename)"
   ]
  },
  {
   "cell_type": "markdown",
   "metadata": {},
   "source": [
    "### We get Marginally Higher Accuracy after stacking in all three models"
   ]
  },
  {
   "cell_type": "code",
   "execution_count": 63,
   "metadata": {},
   "outputs": [],
   "source": [
    "xgb_model_level2=joblib.load('./xgb_model_level2.sav')\n",
    "MLP_model_level2=joblib.load('./model_MLP_level2.sav')\n",
    "GB_best_model_level2=joblib.load('./GB_best_model_level2.sav')"
   ]
  },
  {
   "cell_type": "code",
   "execution_count": 65,
   "metadata": {},
   "outputs": [
    {
     "name": "stdout",
     "output_type": "stream",
     "text": [
      "[2 2 2 ... 1 1 2]\n"
     ]
    }
   ],
   "source": [
    "GB_best_model_level2_results= GB_best_model_level2.predict(S_test)\n",
    "print(GB_best_model_level2_results)"
   ]
  },
  {
   "cell_type": "code",
   "execution_count": 66,
   "metadata": {},
   "outputs": [
    {
     "name": "stdout",
     "output_type": "stream",
     "text": [
      "[2 2 2 ... 0 1 2]\n"
     ]
    },
    {
     "name": "stderr",
     "output_type": "stream",
     "text": [
      "C:\\ProgramData\\Anaconda3\\envs\\ut_ml\\lib\\site-packages\\sklearn\\utils\\validation.py:595: DataConversionWarning: Data with input dtype int32 was converted to float64 by StandardScaler.\n",
      "  warnings.warn(msg, DataConversionWarning)\n"
     ]
    }
   ],
   "source": [
    "MLP_model_level2_results= MLP_model_level2.predict(S_test)\n",
    "print(MLP_model_level2_results)"
   ]
  },
  {
   "cell_type": "code",
   "execution_count": 67,
   "metadata": {},
   "outputs": [
    {
     "name": "stdout",
     "output_type": "stream",
     "text": [
      "[2 2 2 ... 0 1 2]\n"
     ]
    }
   ],
   "source": [
    "xgb_model_level2_results= xgb_model_level2.predict(S_test)\n",
    "print(xgb_model_level2_results)"
   ]
  },
  {
   "cell_type": "code",
   "execution_count": 68,
   "metadata": {},
   "outputs": [
    {
     "data": {
      "text/plain": [
       "'C:\\\\Users\\\\Mrinalini\\\\Desktop\\\\ML_HW\\\\ExoHW\\\\KeplerML_HW'"
      ]
     },
     "execution_count": 68,
     "metadata": {},
     "output_type": "execute_result"
    }
   ],
   "source": [
    "%pwd"
   ]
  },
  {
   "cell_type": "code",
   "execution_count": null,
   "metadata": {},
   "outputs": [],
   "source": []
  }
 ],
 "metadata": {
  "kernelspec": {
   "display_name": "Python [conda env:ut_ml]",
   "language": "python",
   "name": "conda-env-ut_ml-py"
  },
  "language_info": {
   "codemirror_mode": {
    "name": "ipython",
    "version": 3
   },
   "file_extension": ".py",
   "mimetype": "text/x-python",
   "name": "python",
   "nbconvert_exporter": "python",
   "pygments_lexer": "ipython3",
   "version": "3.7.3"
  }
 },
 "nbformat": 4,
 "nbformat_minor": 2
}
